{
 "cells": [
  {
   "cell_type": "code",
   "execution_count": 38,
   "metadata": {
    "ExecuteTime": {
     "end_time": "2023-10-18T17:11:57.164058Z",
     "start_time": "2023-10-18T17:11:57.084743Z"
    }
   },
   "outputs": [],
   "source": [
    "import cv2\n",
    "import numpy as np\n",
    "from dataclasses import dataclass\n",
    "import matplotlib.pyplot as plt\n",
    "\n",
    "# local import\n",
    "from sol_Laplace_Equation_Axb import poisson_blending\n",
    "\n"
   ]
  },
  {
   "cell_type": "code",
   "execution_count": 39,
   "metadata": {
    "ExecuteTime": {
     "end_time": "2023-10-18T17:11:57.165708Z",
     "start_time": "2023-10-18T17:11:57.090510Z"
    }
   },
   "outputs": [],
   "source": [
    "# parameter class \n",
    "@dataclass\n",
    "class Parameters:\n",
    "    hi: float\n",
    "    hj: float\n",
    "    dt: float\n",
    "    iterMax: float\n",
    "    tol: float"
   ]
  },
  {
   "cell_type": "code",
   "execution_count": 40,
   "metadata": {
    "ExecuteTime": {
     "end_time": "2023-10-18T17:11:57.165792Z",
     "start_time": "2023-10-18T17:11:57.093127Z"
    }
   },
   "outputs": [],
   "source": [
    "# image directory\n",
    "folderInput = \"./IMAGES/\""
   ]
  },
  {
   "cell_type": "code",
   "execution_count": 40,
   "metadata": {
    "ExecuteTime": {
     "end_time": "2023-10-18T17:11:57.186611Z",
     "start_time": "2023-10-18T17:11:57.095940Z"
    }
   },
   "outputs": [],
   "source": []
  },
  {
   "cell_type": "markdown",
   "metadata": {},
   "source": [
    "### TEST 1"
   ]
  },
  {
   "cell_type": "code",
   "execution_count": 41,
   "metadata": {
    "ExecuteTime": {
     "end_time": "2023-10-18T17:11:57.186850Z",
     "start_time": "2023-10-18T17:11:57.103691Z"
    }
   },
   "outputs": [],
   "source": [
    "# read image\n",
    "I = cv2.imread('/Users/dianatat/Documents/Master/C2 Optimisation techniques for CV/Project/week2/pictures/source_1.jpeg')\n",
    "\n",
    "# Extract the number of channels\n",
    "num_channels = I.shape[2]\n",
    "\n",
    "# Convert to grayscale if there are multiple channels\n",
    "if num_channels > 1:\n",
    "    I = cv2.cvtColor(I, cv2.COLOR_BGR2GRAY)\n",
    "\n",
    "# Normalize values into [0,1]\n",
    "I = I.astype('float') / 255.0"
   ]
  },
  {
   "cell_type": "code",
   "execution_count": 42,
   "metadata": {
    "ExecuteTime": {
     "end_time": "2023-10-18T17:11:57.188233Z",
     "start_time": "2023-10-18T17:11:57.107818Z"
    }
   },
   "outputs": [
    {
     "name": "stdout",
     "output_type": "stream",
     "text": [
      "Image Dimension    :  (107, 130)\n",
      "Image Height       :  107\n",
      "Image Width        :  130\n"
     ]
    }
   ],
   "source": [
    "dimensions = I.shape\n",
    "# height, width, number of channels in image\n",
    "height = I.shape[0]\n",
    "width = I.shape[1]\n",
    "\n",
    "print('Image Dimension    : ', dimensions)\n",
    "print('Image Height       : ', height)\n",
    "print('Image Width        : ', width)"
   ]
  },
  {
   "cell_type": "code",
   "execution_count": 43,
   "metadata": {
    "ExecuteTime": {
     "end_time": "2023-10-18T17:11:57.188286Z",
     "start_time": "2023-10-18T17:11:57.111552Z"
    }
   },
   "outputs": [],
   "source": [
    "# Normalize values into [0,1]\n",
    "min_val = np.min(I.ravel())\n",
    "max_val = np.max(I.ravel())\n",
    "I = (I.astype('float') - min_val)\n",
    "I = I/max_val\n"
   ]
  },
  {
   "cell_type": "code",
   "execution_count": 44,
   "metadata": {
    "ExecuteTime": {
     "end_time": "2023-10-18T17:11:57.188324Z",
     "start_time": "2023-10-18T17:11:57.116932Z"
    }
   },
   "outputs": [],
   "source": [
    "# read mask image\n",
    "mask_img = cv2.imread('/Users/dianatat/Documents/Master/C2 Optimisation techniques for CV/Project/week2/pictures/mask_1.jpeg')\n",
    "mask_img = cv2.cvtColor(mask_img, cv2.COLOR_BGR2GRAY)\n",
    "\n",
    "# Normalize the mask to [0, 1]\n",
    "mask = mask_img.astype('float') / 255.0\n",
    "\n",
    "# Extract the dimensions of the mask\n",
    "height_mask = mask.shape[0]\n",
    "width_mask = mask.shape[1]"
   ]
  },
  {
   "cell_type": "code",
   "execution_count": 45,
   "metadata": {
    "ExecuteTime": {
     "end_time": "2023-10-18T17:11:57.188795Z",
     "start_time": "2023-10-18T17:11:57.119419Z"
    }
   },
   "outputs": [
    {
     "name": "stdout",
     "output_type": "stream",
     "text": [
      "Mask Height       :  107\n",
      "Mask Width        :  130\n"
     ]
    }
   ],
   "source": [
    "\n",
    "print('Mask Height       : ', height_mask)\n",
    "print('Mask Width        : ', width_mask)\n",
    "\n",
    "#We want to inpaint those areas in which mask == 1\n",
    "mask1 = mask_img >128\n",
    "mask=mask1.astype('float')"
   ]
  },
  {
   "cell_type": "code",
   "execution_count": 46,
   "metadata": {
    "ExecuteTime": {
     "end_time": "2023-10-18T17:11:57.188841Z",
     "start_time": "2023-10-18T17:11:57.122871Z"
    }
   },
   "outputs": [],
   "source": [
    "#  Parameters\n",
    "param = Parameters(0,0,0,0,0)\n",
    "param.hi = 1 / (ni-1)\n",
    "param.hj = 1 / (nj-1)"
   ]
  },
  {
   "cell_type": "code",
   "execution_count": 47,
   "metadata": {
    "ExecuteTime": {
     "end_time": "2023-10-18T17:11:57.188898Z",
     "start_time": "2023-10-18T17:11:57.125228Z"
    }
   },
   "outputs": [],
   "source": [
    "# Parameters for gradient descent (you do not need for week1)\n",
    "param.dt = 5*10^-7\n",
    "param.iterMax = 10^4\n",
    "param.tol = 10^-5"
   ]
  },
  {
   "cell_type": "code",
   "execution_count": 48,
   "metadata": {
    "ExecuteTime": {
     "end_time": "2023-10-18T17:11:57.189136Z",
     "start_time": "2023-10-18T17:11:57.128328Z"
    }
   },
   "outputs": [
    {
     "ename": "NameError",
     "evalue": "name 'gradient' is not defined",
     "output_type": "error",
     "traceback": [
      "\u001B[0;31m---------------------------------------------------------------------------\u001B[0m",
      "\u001B[0;31mNameError\u001B[0m                                 Traceback (most recent call last)",
      "Cell \u001B[0;32mIn[48], line 1\u001B[0m\n\u001B[0;32m----> 1\u001B[0m final_image \u001B[38;5;241m=\u001B[39m poisson_blending(I, mask, param)\n\u001B[1;32m      2\u001B[0m fig, axarr \u001B[38;5;241m=\u001B[39m plt\u001B[38;5;241m.\u001B[39msubplots(\u001B[38;5;241m1\u001B[39m, \u001B[38;5;241m2\u001B[39m, figsize\u001B[38;5;241m=\u001B[39m(\u001B[38;5;241m10\u001B[39m, \u001B[38;5;241m5\u001B[39m))\n\u001B[1;32m      4\u001B[0m axarr[\u001B[38;5;241m0\u001B[39m]\u001B[38;5;241m.\u001B[39mimshow(I)\n",
      "File \u001B[0;32m~/Documents/Master/C2 Optimisation techniques for CV/Project/week2/code/sol_Laplace_Equation_Axb.py:36\u001B[0m, in \u001B[0;36mpoisson_blending\u001B[0;34m(f, dom2Inp, param)\u001B[0m\n\u001B[1;32m     33\u001B[0m A_mask \u001B[38;5;241m=\u001B[39m dom2Inp_ext \u001B[38;5;241m==\u001B[39m \u001B[38;5;241m0\u001B[39m\n\u001B[1;32m     35\u001B[0m \u001B[38;5;66;03m# Calculate gradients of the input image\u001B[39;00m\n\u001B[0;32m---> 36\u001B[0m gradient_x, gradient_y \u001B[38;5;241m=\u001B[39m gradient(f_ext)\n\u001B[1;32m     38\u001B[0m \u001B[38;5;66;03m# Calculate Laplacian of the extended image\u001B[39;00m\n\u001B[1;32m     39\u001B[0m laplacian \u001B[38;5;241m=\u001B[39m \u001B[38;5;241m-\u001B[39m\u001B[38;5;241m4\u001B[39m \u001B[38;5;241m*\u001B[39m f_ext\n",
      "\u001B[0;31mNameError\u001B[0m: name 'gradient' is not defined"
     ]
    }
   ],
   "source": [
    "final_image = poisson_blending(I, mask, param)\n",
    "fig, axarr = plt.subplots(1, 2, figsize=(10, 5))\n",
    "\n",
    "axarr[0].imshow(I)\n",
    "axarr[0].axis('off') \n",
    "axarr[0].set_title('Before inpainting')\n",
    "\n",
    "axarr[1].imshow(final_image)\n",
    "axarr[1].axis('off')\n",
    "axarr[1].set_title('After inpainting')\n",
    "\n",
    "plt.tight_layout()  \n",
    "plt.show()"
   ]
  },
  {
   "cell_type": "markdown",
   "metadata": {},
   "source": [
    "### TEST 2"
   ]
  },
  {
   "cell_type": "code",
   "execution_count": null,
   "metadata": {
    "ExecuteTime": {
     "start_time": "2023-10-18T17:11:57.148889Z"
    }
   },
   "outputs": [],
   "source": [
    "import uuid\n",
    "import os"
   ]
  },
  {
   "cell_type": "code",
   "execution_count": null,
   "metadata": {
    "ExecuteTime": {
     "start_time": "2023-10-18T17:11:57.150352Z"
    }
   },
   "outputs": [],
   "source": [
    "def image_inpainting(I:np.array, mask_image:np.array)->np.array:\n",
    "    #Normalize values into [0,1]\n",
    "    min_val = np.min(I.ravel())\n",
    "    max_val = np.max(I.ravel())\n",
    "    I = (I.astype('float') - min_val)\n",
    "    I = I/max_val\n",
    "    \n",
    "    ni = I.shape[0]\n",
    "    nj = I.shape[1]\n",
    "\n",
    "  \n",
    "    mask1 = mask_image >128\n",
    "    mask=mask1.astype('float')\n",
    "    \n",
    "    \n",
    "    param = Parameters(0,0,0,0,0)\n",
    "    param.hi = 1 / (ni-1)\n",
    "    param.hj = 1 / (nj-1)\n",
    "    \n",
    "    if len(I.shape)==3:\n",
    "        Iinp = np.zeros(I.shape, dtype=np.float32)\n",
    "        Iinp[:,:,0]=sol_Laplace_Equation_Axb(I[:,:,0], mask[:,:,0], param)\n",
    "        Iinp[:,:,1]=sol_Laplace_Equation_Axb(I[:,:,1], mask[:,:,1], param)\n",
    "        Iinp[:,:,2]=sol_Laplace_Equation_Axb(I[:,:,2], mask[:,:,2], param)\n",
    "    else:\n",
    "        Iinp = sol_Laplace_Equation_Axb(I, mask, param)\n",
    "\n",
    "    result_path = os.path.join(\"./tmp\", f\"{str(uuid.uuid4())}_inpaint.jpg\")\n",
    "    fig = plt.figure()\n",
    "    plt.imshow(Iinp)\n",
    "    plt.axis(\"off\")\n",
    "    plt.savefig(result_path)\n",
    "    plt.close(fig)\n",
    "    \n",
    "    \n",
    "    \n",
    "    fig, axarr = plt.subplots(1, 2, figsize=(10, 5))\n",
    "    axarr[0].imshow(I)\n",
    "    axarr[0].axis('off') \n",
    "    axarr[0].set_title('Before inpainting')\n",
    "\n",
    "    axarr[1].imshow(Iinp)\n",
    "    axarr[1].axis('off')\n",
    "    axarr[1].set_title('After inpainting')\n",
    "\n",
    "    plt.tight_layout()  \n",
    "    plt.show()\n",
    "        "
   ]
  },
  {
   "cell_type": "code",
   "execution_count": null,
   "metadata": {
    "ExecuteTime": {
     "start_time": "2023-10-18T17:11:57.151425Z"
    }
   },
   "outputs": [],
   "source": [
    "# image 2\n",
    "figure_name = 'image2'\n",
    "figure_name_final=folderInput+figure_name+'_toRestore.jpg'\n",
    "I = cv2.imread(figure_name_final,cv2.IMREAD_UNCHANGED)\n",
    "\n",
    "# read mask image\n",
    "mask_img_name=folderInput+figure_name+'_mask.jpg'\n",
    "mask_img = cv2.imread(mask_img_name,cv2.IMREAD_UNCHANGED)\n",
    "image_inpainting(I,mask_img)"
   ]
  },
  {
   "cell_type": "code",
   "execution_count": null,
   "metadata": {
    "ExecuteTime": {
     "start_time": "2023-10-18T17:11:57.152495Z"
    }
   },
   "outputs": [],
   "source": [
    "# image 3\n",
    "figure_name = 'image3'\n",
    "figure_name_final=folderInput+figure_name+'_toRestore.jpg'\n",
    "I = cv2.imread(figure_name_final,cv2.IMREAD_UNCHANGED)\n",
    "\n",
    "# read mask image\n",
    "mask_img_name=folderInput+figure_name+'_mask.jpg'\n",
    "mask_img = cv2.imread(mask_img_name,cv2.IMREAD_UNCHANGED)\n",
    "image_inpainting(I,mask_img)"
   ]
  },
  {
   "cell_type": "code",
   "execution_count": null,
   "metadata": {
    "ExecuteTime": {
     "start_time": "2023-10-18T17:11:57.153437Z"
    }
   },
   "outputs": [],
   "source": [
    "# image 4\n",
    "figure_name = 'image4'\n",
    "figure_name_final=folderInput+figure_name+'_toRestore.jpg'\n",
    "I = cv2.imread(figure_name_final,cv2.IMREAD_UNCHANGED)\n",
    "\n",
    "# read mask image\n",
    "mask_img_name=folderInput+figure_name+'_mask.jpg'\n",
    "mask_img = cv2.imread(mask_img_name,cv2.IMREAD_UNCHANGED)\n",
    "image_inpainting(I,mask_img)"
   ]
  },
  {
   "cell_type": "code",
   "execution_count": null,
   "metadata": {
    "ExecuteTime": {
     "start_time": "2023-10-18T17:11:57.154343Z"
    }
   },
   "outputs": [],
   "source": [
    "# image 5\n",
    "figure_name = 'image5'\n",
    "figure_name_final=folderInput+figure_name+'_toRestore.jpg'\n",
    "I = cv2.imread(figure_name_final,cv2.IMREAD_UNCHANGED)\n",
    "\n",
    "# read mask image\n",
    "mask_img_name=folderInput+figure_name+'_mask.jpg'\n",
    "mask_img = cv2.imread(mask_img_name,cv2.IMREAD_UNCHANGED)\n",
    "image_inpainting(I,mask_img)"
   ]
  },
  {
   "cell_type": "code",
   "execution_count": null,
   "metadata": {
    "ExecuteTime": {
     "start_time": "2023-10-18T17:11:57.155279Z"
    }
   },
   "outputs": [],
   "source": [
    "# print(I.shape,mask_img.shape)"
   ]
  },
  {
   "cell_type": "code",
   "execution_count": null,
   "metadata": {
    "ExecuteTime": {
     "start_time": "2023-10-18T17:11:57.155951Z"
    }
   },
   "outputs": [],
   "source": [
    "# image 6\n",
    "figure_name = 'image6'\n",
    "figure_name_final=folderInput+figure_name+'_toRestore.tif'\n",
    "I = cv2.imread(figure_name_final,cv2.IMREAD_UNCHANGED)\n",
    "\n",
    "# read mask image\n",
    "mask_img_name=folderInput+figure_name+'_mask.tif'\n",
    "mask_img = cv2.imread(mask_img_name,cv2.IMREAD_UNCHANGED)\n",
    "image_inpainting(I,mask_img)"
   ]
  },
  {
   "cell_type": "code",
   "execution_count": null,
   "metadata": {
    "ExecuteTime": {
     "start_time": "2023-10-18T17:11:57.156684Z"
    }
   },
   "outputs": [],
   "source": [
    "# image \n",
    "figure_name = 'image'\n",
    "figure_name_final=folderInput+figure_name+'_to_Restore.png'\n",
    "src_image = cv2.imread(figure_name_final)\n",
    "src_image = cv2.cvtColor(src_image,cv2.COLOR_BGR2RGB)\n",
    "\n",
    "# create mask \n",
    "lower_red = np.array([0, 0, 0])\n",
    "upper_red = np.array([255, 0, 0])\n",
    "\n",
    "# Create the mask\n",
    "mask = cv2.inRange(src_image, lower_red, upper_red)\n",
    "\n",
    "# Convert the single channel mask to a 3 channel mask\n",
    "mask_3_channel = cv2.merge([mask, mask, mask])\n",
    "\n",
    "\n",
    "image_inpainting(src_image,mask_3_channel)\n"
   ]
  },
  {
   "cell_type": "code",
   "execution_count": null,
   "metadata": {
    "ExecuteTime": {
     "start_time": "2023-10-18T17:11:57.157460Z"
    }
   },
   "outputs": [],
   "source": [
    "# example image 1\n",
    "figure_name_final='./IMAGES/example 1.jpg'\n",
    "I = cv2.imread(figure_name_final,cv2.IMREAD_UNCHANGED)\n",
    "I = cv2.cvtColor(I,cv2.COLOR_BGR2RGB)\n",
    "I = cv2.resize(I, (400,400))\n",
    "\n",
    "\n",
    "# read mask image\n",
    "mask_img_name='./IMAGES/example 1_mask.jpg'\n",
    "mask_img = cv2.imread(mask_img_name,cv2.IMREAD_UNCHANGED)\n",
    "mask_img = cv2.resize(mask_img, (400,400))\n",
    "\n",
    "image_inpainting(I,mask_img)"
   ]
  },
  {
   "cell_type": "code",
   "execution_count": null,
   "metadata": {
    "ExecuteTime": {
     "start_time": "2023-10-18T17:11:57.158188Z"
    }
   },
   "outputs": [],
   "source": [
    "# example image 2\n",
    "figure_name_final='./IMAGES/example 2.jpeg'\n",
    "I = cv2.imread(figure_name_final,cv2.IMREAD_UNCHANGED)\n",
    "I = cv2.cvtColor(I,cv2.COLOR_BGR2RGB)\n",
    "I = cv2.resize(I, (400,400))\n",
    "\n",
    "\n",
    "# read mask image\n",
    "mask_img_name='./IMAGES/example 2_mask.jpg'\n",
    "mask_img = cv2.imread(mask_img_name,cv2.IMREAD_UNCHANGED)\n",
    "mask_img = cv2.resize(mask_img, (400,400))\n",
    "\n",
    "image_inpainting(I,mask_img)"
   ]
  },
  {
   "cell_type": "code",
   "execution_count": null,
   "metadata": {
    "ExecuteTime": {
     "start_time": "2023-10-18T17:11:57.158814Z"
    }
   },
   "outputs": [],
   "source": [
    "# example image 3\n",
    "figure_name_final='./IMAGES/example 3.jpg'\n",
    "I = cv2.imread(figure_name_final,cv2.IMREAD_UNCHANGED)\n",
    "I = cv2.cvtColor(I,cv2.COLOR_BGR2RGB)\n",
    "I = cv2.resize(I, (400,400))\n",
    "\n",
    "\n",
    "# read mask image\n",
    "mask_img_name='./IMAGES/example 3_mask.jpg'\n",
    "mask_img = cv2.imread(mask_img_name,cv2.IMREAD_UNCHANGED)\n",
    "mask_img = cv2.resize(mask_img, (400,400))\n",
    "\n",
    "image_inpainting(I,mask_img)"
   ]
  },
  {
   "cell_type": "code",
   "execution_count": null,
   "metadata": {
    "ExecuteTime": {
     "start_time": "2023-10-18T17:11:57.159684Z"
    }
   },
   "outputs": [],
   "source": []
  }
 ],
 "metadata": {
  "kernelspec": {
   "display_name": "master",
   "language": "python",
   "name": "python3"
  },
  "language_info": {
   "codemirror_mode": {
    "name": "ipython",
    "version": 3
   },
   "file_extension": ".py",
   "mimetype": "text/x-python",
   "name": "python",
   "nbconvert_exporter": "python",
   "pygments_lexer": "ipython3",
   "version": "3.10.0"
  }
 },
 "nbformat": 4,
 "nbformat_minor": 2
}
